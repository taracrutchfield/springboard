{
 "cells": [
  {
   "cell_type": "markdown",
   "metadata": {},
   "source": [
    "# Candle Reviews Scrape\n",
    "\n",
    "Used the [Amazon Product/Reviews/Keywords API](https://rapidapi.com/logicbuilder/api/amazon-product-reviews-keywords) on RapidAPI to look up the recent candle reviews for [Yankee Candle's Large Jar Balsam & Cedar scented candle](https://www.yankeecandle.com/product/balsam--cedar/_/R-1062314) to see how candle reviews change during the christmas season. "
   ]
  },
  {
   "cell_type": "code",
   "execution_count": 118,
   "metadata": {},
   "outputs": [],
   "source": [
    "import requests\n",
    "import pandas as pd\n",
    "import json\n",
    "\n",
    "def get_reviews(n,key):\n",
    "    url = \"https://amazon-product-reviews-keywords.p.rapidapi.com/product/reviews\"\n",
    "    querystring = {\"asin\":\"B000JDGC78\",\"country\":\"US\",\"variants\":\"1\",\"top\":\"0\",\"page\":str(n)}\n",
    "    headers = {\n",
    "        'x-rapidapi-key': key,\n",
    "        'x-rapidapi-host': \"amazon-product-reviews-keywords.p.rapidapi.com\"\n",
    "        }\n",
    "    response = requests.request(\"GET\", url, headers=headers, params=querystring)\n",
    "    return(response)\n",
    "\n",
    "def txt_to_df(response):\n",
    "    review_df = pd.DataFrame()\n",
    "    reviews = json.loads(response.text)\n",
    "    for i in range(len(reviews['reviews'])):\n",
    "        temp = pd.DataFrame(reviews['reviews'][i])\n",
    "        review = temp.loc['original'].copy()\n",
    "        review['date'] = temp['date']['date']\n",
    "        review_df = review_df.append(review)\n",
    "    return(review_df)"
   ]
  },
  {
   "cell_type": "code",
   "execution_count": 48,
   "metadata": {},
   "outputs": [],
   "source": [
    "# Enter an API Key\n",
    "key = 'API KEY'\n",
    "\n",
    "# Just to make sure it doesn't save over a full dataset\n",
    "if \"data\" not in locals():\n",
    "    data = pd.DataFrame() \n",
    "    \n",
    "# Select pages to get reviews from. I persaonlly only had 2\n",
    "# 5 total requests per month using this API so I set it to take \n",
    "# revewis from pages 1 to 25.\n",
    "List = range(1,25+1)\n",
    "\n",
    "# If the programs been run before, when ran again only it will only go over pages that faild previously\n",
    "if error_responses > 0:\n",
    "    List = list(error_responses.keys())\n",
    "    \n",
    "error_responses = dict()\n",
    "\n",
    "for i in List:\n",
    "    response = get_reviews(i)\n",
    "    try:\n",
    "        data = data.append(txt_to_df(response))\n",
    "    except:\n",
    "        print('Error on page',i)\n",
    "        error_responses[i] = response.text\n",
    "\n",
    "data = data.drop_duplicates()"
   ]
  },
  {
   "cell_type": "code",
   "execution_count": 98,
   "metadata": {},
   "outputs": [],
   "source": [
    "# delete some redundant columns\n",
    "reviews = data.copy()\n",
    "reviews = reviews.reset_index().drop(columns=['index','asin'])\n",
    "\n",
    "# save reviews\n",
    "reviews.to_csv('Candle_Reviews.csv')"
   ]
  }
 ],
 "metadata": {
  "kernelspec": {
   "display_name": "Python 3",
   "language": "python",
   "name": "python3"
  },
  "language_info": {
   "codemirror_mode": {
    "name": "ipython",
    "version": 3
   },
   "file_extension": ".py",
   "mimetype": "text/x-python",
   "name": "python",
   "nbconvert_exporter": "python",
   "pygments_lexer": "ipython3",
   "version": "3.8.5"
  }
 },
 "nbformat": 4,
 "nbformat_minor": 4
}
