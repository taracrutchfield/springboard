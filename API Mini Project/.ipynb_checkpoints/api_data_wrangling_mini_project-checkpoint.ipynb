{
 "cells": [
  {
   "cell_type": "code",
   "execution_count": 1,
   "metadata": {},
   "outputs": [],
   "source": [
    "import requests\n",
    "import numpy\n",
    "\n",
    "API_KEY = 'API Key'"
   ]
  },
  {
   "cell_type": "code",
   "execution_count": 10,
   "metadata": {},
   "outputs": [],
   "source": [
    "url=\"https://www.quandl.com/api/v3/datasets/FSE/AFX_X.json?start_date=2017-01-01&end_date=2017-12-31&api_key=\" + str(API_KEY)\n",
    "\n",
    "request = requests.get(url)\n",
    "json = request.json()\n",
    "\n",
    "json['dataset']['column_names']"
   ]
  },
  {
   "cell_type": "code",
   "execution_count": 4,
   "metadata": {},
   "outputs": [],
   "source": [
    "column_names = json['dataset']['column_names']\n",
    "data = json['dataset']['data']\n",
    "\n",
    "# Create a dictionary combining the column names and data\n",
    "FSE = dict()\n",
    "\n",
    "for index_data, line in enumerate(data):\n",
    "    Entries = dict()\n",
    "    for index_col, column in enumerate(column_names):\n",
    "        Entries[str(column)] = line[index_col]\n",
    "    FSE[index_data] = Entries"
   ]
  },
  {
   "cell_type": "code",
   "execution_count": 5,
   "metadata": {},
   "outputs": [
    {
     "name": "stdout",
     "output_type": "stream",
     "text": [
      "Highest Opening Prices: $53.11\n",
      "Lowest Opening Prices:  $34.00\n"
     ]
    }
   ],
   "source": [
    "# Highest and lowest opening prices\n",
    "\n",
    "open_price = []\n",
    "for index in FSE:\n",
    "    if type(FSE[index][\"Open\"]) == float:\n",
    "        open_price.append(FSE[index][\"Open\"])\n",
    "    \n",
    "print(\"Highest Opening Prices: $%.2f\\nLowest Opening Prices:  $%.2f\" % (max(open_price),min(open_price)) )"
   ]
  },
  {
   "cell_type": "code",
   "execution_count": 6,
   "metadata": {},
   "outputs": [
    {
     "name": "stdout",
     "output_type": "stream",
     "text": [
      "Largest Change in Any Day: $2.81\n"
     ]
    }
   ],
   "source": [
    "# Largest change in any one day\n",
    "\n",
    "change_one = []\n",
    "for index in FSE:\n",
    "    high = FSE[index][\"High\"]\n",
    "    low  = FSE[index][\"Low\"]\n",
    "    if type(high) == float and type(low) == float:\n",
    "        change_one.append(high - low)\n",
    "\n",
    "print(\"Largest Change in Any Day: $%.2f\" % (max(change_one)) )"
   ]
  },
  {
   "cell_type": "code",
   "execution_count": 7,
   "metadata": {},
   "outputs": [
    {
     "name": "stdout",
     "output_type": "stream",
     "text": [
      "Largest Change Between Any Two Day: $1.69\n"
     ]
    }
   ],
   "source": [
    "# Largest change between any two days\n",
    "\n",
    "change_two = []\n",
    "for index in FSE:\n",
    "    open_price = FSE[index][\"Open\"]\n",
    "    close_price  = FSE[index][\"Close\"]\n",
    "    if type(open_price) == float and type(close_price) == float:\n",
    "        change_two.append(abs(close_price - open_price))\n",
    "\n",
    "print(\"Largest Change Between Any Two Day: $%.2f\" % (max(change_two)) )"
   ]
  },
  {
   "cell_type": "code",
   "execution_count": 8,
   "metadata": {},
   "outputs": [
    {
     "name": "stdout",
     "output_type": "stream",
     "text": [
      "Average daily trading volume in the year: 89124.34\n",
      "Median daily trading volume in the year:  74975.00\n"
     ]
    }
   ],
   "source": [
    "# Average and medain daily trading volume during this year\n",
    "\n",
    "trade_volume = []\n",
    "for index in FSE:\n",
    "    if type(FSE[index][\"Traded Volume\"]) == float:\n",
    "        trade_volume.append(FSE[index][\"Traded Volume\"])\n",
    "\n",
    "avg_trade_volume = sum(trade_volume)/len(trade_volume)\n",
    "med_trade_volume = sorted(trade_volume)[int( len(trade_volume)/2 )-1]\n",
    "\n",
    "print(\"Average daily trading volume in the year: %.2f\" % (avg_trade_volume))\n",
    "print(\"Median daily trading volume in the year:  %.2f\" % (med_trade_volume))\n"
   ]
  }
 ],
 "metadata": {
  "kernelspec": {
   "display_name": "Python 3",
   "language": "python",
   "name": "python3"
  },
  "language_info": {
   "codemirror_mode": {
    "name": "ipython",
    "version": 3
   },
   "file_extension": ".py",
   "mimetype": "text/x-python",
   "name": "python",
   "nbconvert_exporter": "python",
   "pygments_lexer": "ipython3",
   "version": "3.7.6"
  }
 },
 "nbformat": 4,
 "nbformat_minor": 2
}
